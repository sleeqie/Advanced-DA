{
 "cells": [
  {
   "cell_type": "markdown",
   "metadata": {},
   "source": [
    "## Cloud computing using Jupyter\n",
    "## MOD3- Advances Data analysis\n",
    "### Dr. Nanki Sidhu \n",
    " Parts of this code is adapted from work by Tyler Erikson, developer of GEE"
   ]
  },
  {
   "cell_type": "markdown",
   "metadata": {},
   "source": [
    "### Start with installing all the necessary libraries \n",
    "### The following are important - ipyleaflet, ee, geemap, numpy (version 1.19.3)"
   ]
  },
  {
   "cell_type": "code",
   "execution_count": null,
   "metadata": {},
   "outputs": [],
   "source": [
    "!pip install ipyleaflet \n",
    "# Leaflet library for creating interactive visualizations"
   ]
  },
  {
   "cell_type": "code",
   "execution_count": null,
   "metadata": {},
   "outputs": [],
   "source": [
    "!pip install --user numpy==1.19.3\n",
    "# Use this to override a bug with the latest version of Numpy library"
   ]
  },
  {
   "cell_type": "code",
   "execution_count": null,
   "metadata": {},
   "outputs": [],
   "source": [
    "!pip install --user geemap\n",
    "# Installing a python library for connectivity to GEE"
   ]
  },
  {
   "cell_type": "markdown",
   "metadata": {},
   "source": [
    "### After installation, we use the command \"import\" to initialize them"
   ]
  },
  {
   "cell_type": "code",
   "execution_count": null,
   "metadata": {},
   "outputs": [],
   "source": [
    "import geemap \n",
    "#Import the library"
   ]
  },
  {
   "cell_type": "code",
   "execution_count": null,
   "metadata": {},
   "outputs": [],
   "source": [
    "import ipyleaflet"
   ]
  },
  {
   "cell_type": "code",
   "execution_count": null,
   "metadata": {},
   "outputs": [],
   "source": [
    "import ee"
   ]
  },
  {
   "cell_type": "code",
   "execution_count": null,
   "metadata": {},
   "outputs": [],
   "source": [
    "from ipyleaflet import Map, basemaps, basemap_to_tiles, FullScreenControl, Marker\n",
    "import ipyleaflet\n",
    "import ipywidgets\n",
    "import ipywidgets as widgets\n",
    "from IPython.display import display, clear_output\n",
    "# Importing some libraries that help with creating widgets such as basemaps, zoom levels, markers, etc."
   ]
  },
  {
   "cell_type": "markdown",
   "metadata": {},
   "source": [
    "### In order to proceed, we now will access our Google Earth Engine accounts through Jupyter. \n",
    "\n",
    "#### First step is to authenticate our accounts, followed by initialization. \n",
    "##### Aunthentication only needs to be done the first time, initialization must be done every time you run a script."
   ]
  },
  {
   "cell_type": "code",
   "execution_count": null,
   "metadata": {},
   "outputs": [],
   "source": [
    "ee.Authenticate() \n",
    "# You only need to do this the first time accessing GEE from python. After running this command, you will be redirected \n",
    "# to Google where you can authenticate your account and a code will be generated that you can paste below. "
   ]
  },
  {
   "cell_type": "code",
   "execution_count": null,
   "metadata": {},
   "outputs": [],
   "source": [
    "ee.Initialize()\n",
    "# Initialize the GEE environment"
   ]
  },
  {
   "cell_type": "markdown",
   "metadata": {},
   "source": [
    "# Example 1: Accessing dataset from the European Centre for Medium-Range Weather Forecasts (ECMWF). \n",
    "\n",
    "## GEE has a very user friendly environment and you can always access the homepage to get more detailed information on the datasets.\n",
    "\n",
    "## Steps\n",
    "\n",
    "* Lets select a dataset to work with - In our case, the ECMWF Monthly global weather data\n",
    "* Lets select one specific variable to plot. For example, Mean air Temperature\n",
    "* Using the geemap library, lets plot this map.\n",
    "*  We can set different parametres such as the size of the plot, assign specific colors or a predefined color map to depict different values, set the minimum and maximum values to be displayed. \n"
   ]
  },
  {
   "cell_type": "code",
   "execution_count": null,
   "metadata": {},
   "outputs": [],
   "source": [
    "img_test = ee.Image('ECMWF/ERA5/MONTHLY/200001')"
   ]
  },
  {
   "cell_type": "code",
   "execution_count": null,
   "metadata": {},
   "outputs": [],
   "source": [
    "t2m = img_test.select('mean_2m_air_temperature') # Select only one variable, air temperature"
   ]
  },
  {
   "cell_type": "code",
   "execution_count": null,
   "metadata": {},
   "outputs": [],
   "source": [
    "Map = geemap.Map(zoom=2,\n",
    "                layout={'height':'1000px'})\n",
    "t2m_palette=['#000080','#0000D9','#4000FF','#8000FF','#0080FF','#00FFFF','#00FF80','#80FF00','#DAFF00','#FFFF00','#FFF500','#FFDA00','#FFB000','#FFA400','#FF4F00','#FF2500','#FF0A00','#FF00FF']\n",
    "Map.addLayer(t2m, {'min': 250, 'max': 330, 'palette':t2m_palette})\n",
    "Map"
   ]
  },
  {
   "cell_type": "markdown",
   "metadata": {},
   "source": [
    "# Example 2: Create a static map\n",
    "\n",
    "## Lets load an image from Landsat 8 collection. You can find the information about the collection under 'datasets' on the GEE homepage. \n",
    "\n",
    "The Data Description page contains the Image ID value LANDSAT/LC08/C01/T1_SR, a key piece of information that we will use in our Python code to refer to the asset."
   ]
  },
  {
   "cell_type": "code",
   "execution_count": null,
   "metadata": {},
   "outputs": [],
   "source": [
    "import bqplot\n",
    "import datetime\n",
    "import dateutil.parser\n",
    "import ipywidgets\n",
    "import IPython.display\n",
    "import pprint\n",
    "import pandas as pd\n",
    "import traitlets\n",
    "\n",
    "# Configure the pretty printing output.\n",
    "pp = pprint.PrettyPrinter(depth=4)"
   ]
  },
  {
   "cell_type": "code",
   "execution_count": null,
   "metadata": {},
   "outputs": [],
   "source": [
    "l8sr = ee.ImageCollection('LANDSAT/LC08/C01/T1_SR') #Access the image collection from the GEE catalogue"
   ]
  },
  {
   "cell_type": "code",
   "execution_count": null,
   "metadata": {
    "code_folding": []
   },
   "outputs": [],
   "source": [
    "sample_image = ee.Image(\n",
    "    l8sr.filterDate('2017-11-01', '2017-12-02')\n",
    "        .filterBounds(ee.Geometry.Point(-73.9957, 40.7262))\n",
    "        .first()\n",
    ")\n",
    "\n",
    "band_names_original = sample_image.bandNames()\n",
    "band_names_original.getInfo()"
   ]
  },
  {
   "cell_type": "markdown",
   "metadata": {},
   "source": [
    "**Rename the Bandnames for us to remember them easier**\n"
   ]
  },
  {
   "cell_type": "code",
   "execution_count": null,
   "metadata": {},
   "outputs": [],
   "source": [
    "l8_bands = ee.Dictionary({\n",
    "    'B1':'ultra_blue',\n",
    "    'B2':'blue',\n",
    "    'B3':'green',\n",
    "    'B4':'red',\n",
    "    'B5':'nir',\n",
    "    'B6':'swir_1',\n",
    "    'B7':'swir_2',\n",
    "    'B8':'pan',\n",
    "    'B9':'cirrus',\n",
    "    'B10':'tirs_1',\n",
    "    'B11':'tirs_2',\n",
    "    'sr_aerosol':'sr_aerosol',\n",
    "    'pixel_qa':'pixel_qa',\n",
    "    'radsat_qa':'radsat_qa'\n",
    "})\n",
    "bandnames_new = l8_bands.values(sample_image.bandNames())\n",
    "l8sr = l8sr.select(band_names_original, bandnames_new)"
   ]
  },
  {
   "cell_type": "markdown",
   "metadata": {},
   "source": [
    "**Print the metadata for our sample image**"
   ]
  },
  {
   "cell_type": "code",
   "execution_count": null,
   "metadata": {},
   "outputs": [],
   "source": [
    "sample_image = ee.Image(\n",
    "    l8sr.filterDate('2017-11-10', '2017-12-01')\n",
    "        .filterBounds(ee.Geometry.Point(-73.9957, 40.7262))\n",
    "        .first()\n",
    ")\n",
    "#You can change the above parametres, such as filter for dates or location. \n",
    "#first() brings the first image in an image collection\n",
    "\n",
    "pp.pprint(sample_image.getInfo())"
   ]
  },
  {
   "cell_type": "markdown",
   "metadata": {},
   "source": [
    "**We can create a thumbnail of the image, and generate a URL for it.**"
   ]
  },
  {
   "cell_type": "code",
   "execution_count": null,
   "metadata": {},
   "outputs": [],
   "source": [
    "url = sample_image.getThumbUrl({'min':0, 'max':3000, 'dimensions': 600})\n",
    "print(url)"
   ]
  },
  {
   "cell_type": "markdown",
   "metadata": {},
   "source": [
    "**OR**"
   ]
  },
  {
   "cell_type": "code",
   "execution_count": null,
   "metadata": {},
   "outputs": [],
   "source": [
    "thumbnail = sample_image.getThumbUrl({'bands':'red,green,blue',\n",
    "                                      'min': 0 ,\n",
    "                                      'max': 3000 ,\n",
    "                                      'region': sample_image.geometry().bounds().getInfo(),\n",
    "                                       'dimensions': 600})\n",
    "IPython.display.HTML('Thumbnail URL: <a href={0}>{0}</a>'.format(thumbnail))"
   ]
  },
  {
   "cell_type": "markdown",
   "metadata": {},
   "source": [
    "# Example 3: Create an interactive map\n",
    "\n",
    "The iPyLeaflet library can be used to generate interactive maps."
   ]
  },
  {
   "cell_type": "code",
   "execution_count": null,
   "metadata": {
    "scrolled": true
   },
   "outputs": [],
   "source": [
    "# Draw a basic OpenStreetMap basemap layer.\n",
    "map1 = ipyleaflet.Map(zoom=3, layout={'height':'400px'})\n",
    "dc = ipyleaflet.DrawControl() #Allows you to draw shapes on the map\n",
    "map1.add_control(dc)\n",
    "map1"
   ]
  },
  {
   "cell_type": "markdown",
   "metadata": {},
   "source": [
    "**To display an Earth Engine generated image on the interactive map, we can use ipyleaflet's TileLayer object.**\n",
    "\n",
    "First we start by defining a function that can generate a tile layer URL from an Earth Engine image object."
   ]
  },
  {
   "cell_type": "code",
   "execution_count": null,
   "metadata": {},
   "outputs": [],
   "source": [
    "def GetTileLayerUrl(ee_image_object):\n",
    "  map_id = ee.Image(ee_image_object).getMapId()\n",
    "  tile_fetcher = map_id['tile_fetcher']\n",
    "  return tile_fetcher.url_format"
   ]
  },
  {
   "cell_type": "markdown",
   "metadata": {},
   "source": [
    "Now we will select an image collection that we want to work with. For the purpose of this example, we will use Sentinel 2 image collection. You can find more data on the collection under datasets on GEE. "
   ]
  },
  {
   "cell_type": "code",
   "execution_count": null,
   "metadata": {},
   "outputs": [],
   "source": [
    "s2 = ee.ImageCollection('COPERNICUS/S2_SR')"
   ]
  },
  {
   "cell_type": "code",
   "execution_count": null,
   "metadata": {},
   "outputs": [],
   "source": [
    "# We want one image from our collection\n",
    "sample_image2= ee.Image(\n",
    "        s2.filterDate('2020-11-01', '2020-11-11')\n",
    "        .filterBounds(ee.Geometry.Point(37.505523, -1.874832))\n",
    "        .first()\n",
    ")\n",
    "\n",
    "#Filtered to one day"
   ]
  },
  {
   "cell_type": "markdown",
   "metadata": {},
   "source": [
    "We then can create a tile layer that displays the Sentinel-2 data, and add it to the map."
   ]
  },
  {
   "cell_type": "code",
   "execution_count": null,
   "metadata": {
    "code_folding": []
   },
   "outputs": [],
   "source": [
    " sentinel2_tilelayer = ipyleaflet.TileLayer(\n",
    "    name='Sentinel 2',\n",
    "    url=GetTileLayerUrl(\n",
    "        sample_image2.visualize(\n",
    "            min=0,\n",
    "            max=3000,\n",
    "            gamma=1.5,\n",
    "            bands= ['B4', 'B3', 'B2']\n",
    "        )\n",
    "    ),\n",
    "    attribution='Map tiles by <a href=\"http://earthengine.google.com/\">Earth Engine</a>.'\n",
    ")\n",
    "map1.add_layer(sentinel2_tilelayer)"
   ]
  },
  {
   "cell_type": "markdown",
   "metadata": {},
   "source": [
    "We can also add a layer control to our map, the will allow us to toggle the visibility of layers."
   ]
  },
  {
   "cell_type": "code",
   "execution_count": null,
   "metadata": {},
   "outputs": [],
   "source": [
    "# Adding the layers control to the map.\n",
    "map1.add_control(ipyleaflet.LayersControl())"
   ]
  },
  {
   "cell_type": "markdown",
   "metadata": {},
   "source": [
    "The preceding code block did add a layer to a map, but it is a little cumbersome to see because the map was displayed earlier in the notebook and may now be off the screen. If we want, we can display the map in the notebook a second time..."
   ]
  },
  {
   "cell_type": "code",
   "execution_count": null,
   "metadata": {
    "scrolled": true
   },
   "outputs": [],
   "source": [
    "map1"
   ]
  },
  {
   "cell_type": "markdown",
   "metadata": {},
   "source": [
    "# Example 4 : Playing with python widgets and creating climate graphs ( A bit more advanced) \n",
    "\n",
    "\n",
    "Adapted from Julia Wagemann notebooks (Github - JWagemann)"
   ]
  },
  {
   "cell_type": "code",
   "execution_count": null,
   "metadata": {
    "code_folding": []
   },
   "outputs": [],
   "source": [
    "# We need the following libraries - Plotly, iPyleaflet and Widgets \n",
    "!pip install plotly \n"
   ]
  },
  {
   "cell_type": "code",
   "execution_count": null,
   "metadata": {},
   "outputs": [],
   "source": [
    "! pip install chart_studio"
   ]
  },
  {
   "cell_type": "code",
   "execution_count": null,
   "metadata": {},
   "outputs": [],
   "source": [
    "from ipyleaflet import Map, basemaps, basemap_to_tiles, FullScreenControl, Marker\n",
    "import ipyleaflet\n",
    "\n",
    "from IPython.display import display, clear_output\n",
    "import ipywidgets as widgets\n",
    "import numpy as np\n",
    "import ee\n",
    "\n",
    "import chart_studio.plotly as py\n",
    "import plotly.offline as py\n",
    "import plotly.graph_objs as go"
   ]
  },
  {
   "cell_type": "code",
   "execution_count": null,
   "metadata": {},
   "outputs": [],
   "source": [
    "# Lets start once again with the collection from example 1\n",
    "\n",
    "era5_monthly = ee.ImageCollection('ECMWF/ERA5/MONTHLY')"
   ]
  },
  {
   "cell_type": "code",
   "execution_count": null,
   "metadata": {},
   "outputs": [],
   "source": [
    "era5_monthly.getInfo() #metadata check "
   ]
  },
  {
   "cell_type": "code",
   "execution_count": null,
   "metadata": {},
   "outputs": [],
   "source": [
    "# Def Tile function exactly as in Example 3\n",
    "\n",
    "def GetTileLayerUrl(ee_image_object):\n",
    "  map_id = ee.Image(ee_image_object).getMapId()\n",
    "  tile_fetcher = map_id['tile_fetcher']\n",
    "  return tile_fetcher.url_format"
   ]
  },
  {
   "cell_type": "markdown",
   "metadata": {},
   "source": [
    "### We want to plot mean precipitation for each month of the time series "
   ]
  },
  {
   "cell_type": "code",
   "execution_count": null,
   "metadata": {},
   "outputs": [],
   "source": [
    "era5_monthly_img = era5_monthly.limit(1).first() # We pick the first image of the each month\n",
    "collection_img_proj = era5_monthly_img.select(0).projection()"
   ]
  },
  {
   "cell_type": "code",
   "execution_count": null,
   "metadata": {},
   "outputs": [],
   "source": [
    "months = range(1,13)\n",
    "\n",
    "# Store images in a list\n",
    "img_list = []\n",
    "for i in months:\n",
    "    collection_filtered = era5_monthly.filter(ee.Filter.calendarRange(i,i, 'month'))\n",
    "    collection_red = collection_filtered.reduce(ee.Reducer.mean())\n",
    "    \n",
    "    # if reducer function is applied to an image collection, the output does not have any projection information, as collection can contain \\ \n",
    "    # images with different projection information. Thus, one can set the projection to each image\n",
    "    collection_red_proj = collection_red.setDefaultProjection(collection_img_proj)\n",
    "    img_list.append(collection_red_proj)\n",
    "    \n",
    "#img_list[0].getInfo()"
   ]
  },
  {
   "cell_type": "code",
   "execution_count": null,
   "metadata": {},
   "outputs": [],
   "source": [
    "# Build a new collection from our selected images \n",
    "meanMonths_collection = ee.ImageCollection.fromImages(img_list)\n",
    "#meanMonths_collection.getInfo()"
   ]
  },
  {
   "cell_type": "code",
   "execution_count": null,
   "metadata": {},
   "outputs": [],
   "source": [
    "t2m_tmp = meanMonths_collection.select('mean_2m_air_temperature_mean').first()\n",
    "tp_tmp = meanMonths_collection.select('total_precipitation_mean').first()"
   ]
  },
  {
   "cell_type": "code",
   "execution_count": null,
   "metadata": {},
   "outputs": [],
   "source": [
    "# Our map parametres for both our image instances that we want to plot \n",
    "\n",
    "img_t2m = GetTileLayerUrl(t2m_tmp.visualize(min=250, max=330, palette=['#000080','#0000D9','#4000FF','#8000FF','#0080FF','#00FFFF','#00FF80','#80FF00','#DAFF00','#FFFF00','#FFF500','#FFDA00','#FFB000','#FFA400','#FF4F00','#FF2500','#FF0A00','#FF00FF']))\n",
    "img_tp = GetTileLayerUrl(tp_tmp.visualize(min=0, max=1, palette=['#FFFFFF', '#00FFFF', '#0080FF', '#DA00FF', '#FFA400','#FF0000']))"
   ]
  },
  {
   "cell_type": "code",
   "execution_count": null,
   "metadata": {},
   "outputs": [],
   "source": [
    "## Lets build our plots, these are controls for every little element of our final graphs!\n",
    "\n",
    "def click(b):\n",
    "    point = ee.Geometry.Point(lon,lat)\n",
    "    tp_point = meanMonths_collection.select('total_precipitation_mean').getRegion(point,500).getInfo()\n",
    "    t2m_point = meanMonths_collection.select('maximum_2m_air_temperature_mean').getRegion(point,500).getInfo()\n",
    "        \n",
    "    header_tp = tp_point[0]\n",
    "    data_tp = tp_point[1:]\n",
    "    ydata_tp = [row[4]*1000 for row in data_tp]\n",
    "    \n",
    "    header_t2m = t2m_point[0]\n",
    "    data_t2m = t2m_point[1:]\n",
    "    ydata_t2m = [row[4]-273.2 for row in data_t2m]\n",
    "\n",
    "    tp = go.Bar(\n",
    "        x=['Jan', 'Feb', 'Mar', 'Apr', 'May', 'Jun','Jul', 'Aug', 'Sep', 'Oct', 'Nov', 'Dec'],\n",
    "        y=ydata_tp,\n",
    "        name='Total precipitation in mm',\n",
    "        marker=dict(\n",
    "            color='rgb(204,204,204)',\n",
    "        ))\n",
    "    \n",
    "    t2m = go.Scatter(\n",
    "        x=['Jan', 'Feb', 'Mar', 'Apr', 'May', 'Jun','Jul', 'Aug', 'Sep', 'Oct', 'Nov', 'Dec'],\n",
    "        y=ydata_t2m,\n",
    "        name=\"2m air temperature in deg C\",\n",
    "        yaxis='y2')\n",
    "\n",
    "    data = [tp,t2m]\n",
    "    layout = go.Layout(\n",
    "        title='Climate graph at location '+ str(round(lat,2)) + ' / '+ str(round(lon,2)) + ' (lat/lon)',\n",
    "        yaxis=dict(\n",
    "            title=\"Total precipitation in mm\"\n",
    "        ),\n",
    "        yaxis2=dict(\n",
    "            title=\"2 m air temperature in degC\",\n",
    "            overlaying='y',\n",
    "            side='right',\n",
    "            range=[0,max(ydata_t2m)+2]\n",
    "        )\n",
    "    )\n",
    "\n",
    "    fig = go.Figure(data=data, layout=layout)\n",
    "    with out:\n",
    "        clear_output(wait=True)\n",
    "        display(py.iplot(fig,filename='test'))"
   ]
  },
  {
   "cell_type": "code",
   "execution_count": null,
   "metadata": {},
   "outputs": [],
   "source": [
    "map2 = ipyleaflet.Map(\n",
    "    zoom=2,\n",
    "    layout={'height':'500px'},\n",
    ")\n",
    "\n",
    "map2.add_layer(ipyleaflet.TileLayer(url=img_t2m))\n",
    "map2.add_layer(ipyleaflet.TileLayer(url=img_tp))\n",
    "map2.add_control(ipyleaflet.LayersControl())\n",
    "\n",
    "control = FullScreenControl()\n",
    "map2.add_control(control)\n",
    "\n",
    "map2"
   ]
  },
  {
   "cell_type": "code",
   "execution_count": null,
   "metadata": {},
   "outputs": [],
   "source": [
    "def handle_click(**kwargs):\n",
    "    if kwargs.get('type') == 'click':\n",
    "        global lat, lon\n",
    "        mark = ipyleaflet.Marker(location=kwargs.get('coordinates'))\n",
    "        map2.add_layer(mark)\n",
    "        location = mark.location\n",
    "        lat, lon = location[0], location[1]        \n",
    "\n",
    "map2.on_interaction(handle_click)"
   ]
  },
  {
   "cell_type": "code",
   "execution_count": null,
   "metadata": {},
   "outputs": [],
   "source": [
    "out=widgets.Output()\n",
    "button=widgets.Button(description='Plot climate graph')\n",
    "button.on_click(click)\n",
    "display(out)\n",
    "display(button)"
   ]
  },
  {
   "cell_type": "code",
   "execution_count": null,
   "metadata": {
    "scrolled": true
   },
   "outputs": [],
   "source": []
  }
 ],
 "metadata": {
  "kernelspec": {
   "display_name": "Python 3",
   "language": "python",
   "name": "python3"
  },
  "language_info": {
   "codemirror_mode": {
    "name": "ipython",
    "version": 3
   },
   "file_extension": ".py",
   "mimetype": "text/x-python",
   "name": "python",
   "nbconvert_exporter": "python",
   "pygments_lexer": "ipython3",
   "version": "3.7.3"
  },
  "latex_envs": {
   "LaTeX_envs_menu_present": true,
   "autoclose": false,
   "autocomplete": true,
   "bibliofile": "biblio.bib",
   "cite_by": "apalike",
   "current_citInitial": 1,
   "eqLabelWithNumbers": true,
   "eqNumInitial": 1,
   "hotkeys": {
    "equation": "Ctrl-E",
    "itemize": "Ctrl-I"
   },
   "labels_anchors": false,
   "latex_user_defs": false,
   "report_style_numbering": false,
   "user_envs_cfg": false
  },
  "nbTranslate": {
   "displayLangs": [
    "*"
   ],
   "hotkey": "alt-t",
   "langInMainMenu": true,
   "sourceLang": "en",
   "targetLang": "fr",
   "useGoogleTranslate": true
  }
 },
 "nbformat": 4,
 "nbformat_minor": 2
}
